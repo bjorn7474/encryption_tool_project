{
 "cells": [
  {
   "cell_type": "code",
   "id": "27368424",
   "metadata": {
    "ExecuteTime": {
     "end_time": "2025-08-13T10:48:10.318068Z",
     "start_time": "2025-08-13T10:48:10.314735Z"
    }
   },
   "source": [
    "\n",
    "def ascii_encode(msg):\n",
    "\n",
    "    lst = []\n",
    "    for i in msg:\n",
    "        lst.append(ord(i))\n",
    "\n",
    "    return lst\n",
    "\n",
    "#print(ascii_encode('hello world'))"
   ],
   "outputs": [],
   "execution_count": 31
  },
  {
   "cell_type": "code",
   "id": "60207d38",
   "metadata": {
    "ExecuteTime": {
     "end_time": "2025-08-13T10:48:10.341962Z",
     "start_time": "2025-08-13T10:48:10.338191Z"
    }
   },
   "source": [
    "def shift_ascii_numbers(numb_list, shift_val):\n",
    "    '''\n",
    "    we will restrict ourselves to the set of single printable characters from the ascii table. These range from 32 to 126 in the ascii table - a total of 95 characters. \n",
    "    \n",
    "    To ensure no overflow after shifting, we first subtract 32 to take us to the range 0 to 94, make the shift modulo 95, then add 32 again to take us back to the suitable range. \n",
    "    '''\n",
    "\n",
    "    shifted_numb_list =  []\n",
    "    for i in numb_list:\n",
    "        temp_val = ( (i -32 + shift_val) ) % 95 + 32\n",
    "        shifted_numb_list.append(temp_val)\n",
    "    return shifted_numb_list\n",
    "\n",
    "#lst = shift_ascii_numbers([104, 101, 108, 108, 111, 32, 119, 111, 114, 108, 100], 77 )\n",
    "#lst\n"
   ],
   "outputs": [],
   "execution_count": 32
  },
  {
   "cell_type": "code",
   "id": "c9f919531c8a83ef",
   "metadata": {
    "ExecuteTime": {
     "end_time": "2025-08-13T10:48:10.364281Z",
     "start_time": "2025-08-13T10:48:10.356404Z"
    }
   },
   "source": [
    "def ascii_decode(msg):\n",
    "    \n",
    "    lst = []\n",
    "    for i in msg:\n",
    "        lst.append( chr(i))\n",
    "        \n",
    "    return lst\n",
    "\n",
    "#output = ascii_decode([86, 83, 90, 90, 93, 109, 101, 93, 96, 90, 82])\n",
    "#print(output)\n",
    "#print(''.join(output))"
   ],
   "outputs": [],
   "execution_count": 33
  },
  {
   "cell_type": "code",
   "id": "1187ed04bbe3b90d",
   "metadata": {
    "ExecuteTime": {
     "end_time": "2025-08-13T10:48:10.391482Z",
     "start_time": "2025-08-13T10:48:10.387262Z"
    }
   },
   "source": [
    "def ascii_caesar_encrypt(message, key):\n",
    "    \n",
    "    #step 1: ascii encode\n",
    "    ascii_message = ascii_encode(message)\n",
    "    \n",
    "    #step 2: step 2: shift ascii numbers\n",
    "    shifted_ascii_message = shift_ascii_numbers(ascii_message, key)\n",
    "    \n",
    "    #step 3: ascii decode \n",
    "    encrypted_message = ascii_decode(shifted_ascii_message)\n",
    "    \n",
    "    #step 4: convert to string and return \n",
    "    return ''.join(encrypted_message)\n",
    "\n",
    "#print(ascii_caesar_encrypt(\"hello world again\", 23))"
   ],
   "outputs": [],
   "execution_count": 34
  },
  {
   "cell_type": "code",
   "id": "1d14710db5712f12",
   "metadata": {
    "ExecuteTime": {
     "end_time": "2025-08-13T10:48:10.406194Z",
     "start_time": "2025-08-13T10:48:10.402280Z"
    }
   },
   "source": [
    "def ascii_caesar_decrypt(encrypted_message, key):\n",
    "    \n",
    "    #step 1: ascii encode\n",
    "    ascii_message = ascii_encode(encrypted_message)\n",
    "    \n",
    "    #step 2: step 2: shift ascii numbers\n",
    "    shifted_ascii_message = shift_ascii_numbers(ascii_message, -1*key)\n",
    "    \n",
    "    #step 3: ascii decode \n",
    "    decrypted_message = ascii_decode(shifted_ascii_message)\n",
    "    \n",
    "    #step 4: convert to string and return \n",
    "    return ''.join(decrypted_message)"
   ],
   "outputs": [],
   "execution_count": 35
  },
  {
   "cell_type": "code",
   "id": "b8426a6249887376",
   "metadata": {
    "ExecuteTime": {
     "end_time": "2025-08-13T10:48:10.421500Z",
     "start_time": "2025-08-13T10:48:10.415922Z"
    }
   },
   "source": [
    "#helper functions to get user input\n",
    "\n",
    "def get_user_encryption_type():\n",
    "\n",
    "    encryption_type = 0\n",
    "    while (encryption_type not in ['1', '2']):\n",
    "        encryption_type = input('Which encryption method would you like to use?\\n (1. Ceasar cipher 2. RSA): ')\n",
    "    encryption_type = int(encryption_type)\n",
    "\n",
    "    return encryption_type\n",
    "\n",
    "\n",
    "def get_user_message(message_limit = 50):\n",
    "    message = input('Enter your message: ')\n",
    "    while len(message) > message_limit:\n",
    "        print('Your message is too long!')\n",
    "        message = input('Enter your message: ')\n",
    "\n",
    "    return message\n",
    "\n",
    "def get_encryption_key():\n",
    "    encryption_key = 0\n",
    "    while (encryption_key not in [str(i) for i in range(1, 95)]):\n",
    "        encryption_key = input('Enter an encryption key between 1 - 95: ')\n",
    "    encryption_key = int(encryption_key)\n",
    "    return encryption_key\n",
    "\n",
    "def get_encryption_dir():\n",
    "    encryption_dir = ''\n",
    "    while encryption_dir not in ['e','d']: \n",
    "        encryption_dir = input(\"Would you like to encrypt (e) or decrypt (d)?\")\n",
    "    return encryption_dir\n",
    "\n",
    "\n",
    "\n",
    "\n"
   ],
   "outputs": [],
   "execution_count": 36
  },
  {
   "metadata": {
    "ExecuteTime": {
     "end_time": "2025-08-13T10:48:10.434614Z",
     "start_time": "2025-08-13T10:48:10.430581Z"
    }
   },
   "cell_type": "code",
   "source": [
    "def encryption_keys_needed():\n",
    "\n",
    "    keys_needed = input(\"Do you need to generate a public-private key pair? Y/N\")\n",
    "    \n",
    "    if keys_needed == 'Y':\n",
    "        return True\n",
    "    else:\n",
    "        return False\n",
    "    "
   ],
   "id": "357c0945f066021f",
   "outputs": [],
   "execution_count": 37
  },
  {
   "metadata": {
    "ExecuteTime": {
     "end_time": "2025-08-13T12:57:51.538654Z",
     "start_time": "2025-08-13T12:57:51.318966Z"
    }
   },
   "cell_type": "code",
   "source": [
    "#here we are following the methodology at \n",
    "#https://medium.com/coinmonks/rsa-encryption-and-decryption-with-pythons-pycryptodome-library-94f28a6a1816\n",
    "\n",
    "# Import necessary modules from pycryptodome\n",
    "from Crypto.PublicKey import RSA\n",
    "from Crypto.Cipher import PKCS1_OAEP\n",
    "\n",
    "# This module converts binary data to hexadecimal\n",
    "from binascii import hexlify, unhexlify\n",
    "\n",
    "\n",
    "\n",
    "\n",
    "def create_RSA_key_pair(key_size = 1024):\n",
    "    # Generate new RSA key\n",
    "    # Create an RSA key pair with a key size of 1024 bits\n",
    "    key = RSA.generate(key_size)\n",
    "    \n",
    "    # set the public_key variable to n and e as a dictionary \n",
    "    public_key_dict = {\"n\": key.n, \"e\":key.e}\n",
    "\n",
    "    # Set the private_key variable to d\n",
    "    private_key_dict = {\"d\": key.d}\n",
    "    \n",
    "    return private_key_dict, public_key_dict\n",
    "\n",
    "def return_RSA_key_pair():\n",
    "    #generate keys\n",
    "    private_key, public_key = create_RSA_key_pair()\n",
    "    #here we will print encryption keys to the user\n",
    "    print('The details of your public key are:')\n",
    "    print(f\"\\t n: {public_key['n']}\")\n",
    "    print(f\"\\t e: {public_key['e']}\")\n",
    "    print('The details of your private key are:')\n",
    "    print(f\"\\t d: {private_key['d']}\")\n",
    "\n",
    "\n",
    "\n",
    "def public_key_from_variables(n, e):\n",
    "    return RSA.construct((n, e))\n",
    "\n",
    "def private_key_from_variables(n ,e ,d):\n",
    "    return RSA.construct((n,e,d))\n",
    "\n",
    "def RSA_encrypt(message_string, public_key_object):\n",
    "\n",
    "    # Step 3: Encrypt using public key\n",
    "    # Create a PKCS1_OAEP cipher object with the public key for encryption\n",
    "    data_to_encrypt = str.encode(message_string)\n",
    "    cipher_rsa = PKCS1_OAEP.new(public_key_object)\n",
    "\n",
    "    #Encrypt the provided data using the public key\n",
    "    encrypted = cipher_rsa.encrypt(data_to_encrypt)\n",
    "\n",
    "    # Convert binary data to hexadecimal for display using hexlify\n",
    "    return hexlify(encrypted)\n",
    "\n",
    "def RSA_decrypt(encrypted_message_string, private_key_object):\n",
    "    # Create a PKCS1_OAEP cipher object with the private key for decryption\n",
    "    cipher_rsa = PKCS1_OAEP.new(private_key_object)\n",
    "    decrypted = cipher_rsa.decrypt(unhexlify(encrypted_message_string))\n",
    "    \n",
    "    return decrypted.decode(\"utf-8\")\n",
    "    \n",
    "#testing\n",
    "#step 1: create keys as dicts\n",
    "#private_key_dict, public_key_dict = create_RSA_key_pair()\n",
    "\n",
    "#step2: encrypt using public key\n",
    "#public_key_object = public_key_from_variables(public_key_dict['n'],public_key_dict['e'])\n",
    "#encrypted_message = RSA_encrypt(\"hello world\", public_key_object)\n",
    "#print(\"Your encrypted message is:\", encrypted_message.decode(\"utf-8\"))\n",
    "\n",
    "#step3: decrypt using private key\n",
    "#private_key_object = private_key_from_variables(public_key_dict['n'],public_key_dict['e'], private_key_dict['d'])\n",
    "#decrypted_message = RSA_decrypt(encrypted_message, private_key_object)\n",
    "#print(\"Your decrypted message is:\", decrypted_message)\n",
    "\n",
    "\n",
    "\n",
    "    \n",
    "    "
   ],
   "id": "9acb051c349f8d1b",
   "outputs": [
    {
     "name": "stdout",
     "output_type": "stream",
     "text": [
      "Your encrypted message is: b47e6c94751d7929c7376f860fa54b4f22889e9ba2b05c51e50e19c74ccb733cf799f7fbed2f2292d9d4a600ea2e58f188cad77cdac5bc6f8d83cf2ec7aabad8e55bfc83291f6bebfd2c7f79f3096741cb9c7b45f55f6f6d89678ce49af333c7eb4f57529706559c92c06a83864876ca2a0239eee617d39148668b6828c3ceb4\n",
      "Your decrypted message is: hello world\n"
     ]
    }
   ],
   "execution_count": 64
  },
  {
   "metadata": {
    "ExecuteTime": {
     "end_time": "2025-08-13T12:05:26.622679Z",
     "start_time": "2025-08-13T12:05:26.610187Z"
    }
   },
   "cell_type": "code",
   "source": "public_key",
   "id": "59b1895f1f96e5d2",
   "outputs": [
    {
     "data": {
      "text/plain": [
       "{'n': 130290902049277237936032726908995602924913372575235160491255855366311249987555109190248832813378121901343303100303800185748475458723231836613188394479023892479273302187524946763388036197002208058707951763304000972401245887454227174524740616234765123101534874068511939172861596150225222529974460670215562234351,\n",
       " 'e': 65537}"
      ]
     },
     "execution_count": 43,
     "metadata": {},
     "output_type": "execute_result"
    }
   ],
   "execution_count": 43
  },
  {
   "metadata": {
    "ExecuteTime": {
     "end_time": "2025-08-13T12:19:07.187302Z",
     "start_time": "2025-08-13T12:19:07.169895Z"
    }
   },
   "cell_type": "code",
   "source": "public_key_object = public_key_from_variables(public_key['n'],public_key['e'])",
   "id": "4690a0bb5902f9d6",
   "outputs": [],
   "execution_count": 45
  },
  {
   "cell_type": "code",
   "id": "e0684ce6",
   "metadata": {
    "ExecuteTime": {
     "end_time": "2025-08-13T10:48:28.045189Z",
     "start_time": "2025-08-13T10:48:10.491261Z"
    }
   },
   "source": [
    "# main logic \n",
    "\n",
    "while True:\n",
    "    encryption_type = get_user_encryption_type()\n",
    "    \n",
    "    if encryption_type == 2:\n",
    "        #USing RSA encryption. Does the user need to generate a key pair? \n",
    "        if encryption_keys_needed():\n",
    "            return_RSA_key_pair()\n",
    " \n",
    "            do_an_encryption = input(\"Would you also like to encrypt/decrypt a message? Y/N\")\n",
    "            if do_an_encryption == \"N\":\n",
    "                break \n",
    "    \n",
    "    message =  get_user_message()\n",
    "    encryption_key = get_encryption_key()\n",
    "    encryption_dir = get_encryption_dir()\n",
    "    \n",
    "    if encryption_type == 1:\n",
    "        #the user wants to use the caeser cipher\n",
    "        if encryption_dir == 'e':\n",
    "            #the use wants to encrypt\n",
    "            print(f\"Your encrypted message using the caeser cipher and key {encryption_key} is:\")\n",
    "            print('\\t', ascii_caesar_encrypt(message, encryption_key))\n",
    "        else:\n",
    "            #the user wants to decrypt\n",
    "            print(f\"Your decrypted message using the caeser cipher and key {encryption_key} is:\")\n",
    "            print(ascii_caesar_decrypt(message, encryption_key))\n",
    "        \n",
    "    \n",
    "    elif encryption_type == 2:\n",
    "        #the user want to use another encryption type\n",
    "        pass\n",
    "    \n",
    "    \n",
    "    another_message = input(\"Would you like to encrypt/decrypt another message? Y/N\")\n",
    "    if another_message == \"N\":\n",
    "        break\n",
    "    "
   ],
   "outputs": [
    {
     "name": "stdout",
     "output_type": "stream",
     "text": [
      "The details of your public key are:\n",
      "\t n: 140051963716883906866874417642990757939716466750410214590108596175993400576606023446142766311055290155181521058010858818123595687604903694446079807429231881433982451318764620424280654096113118936304056085862515569409246251275874843191734001231100176437736788370891270287105919477037351656990111990993885300973\n",
      "\t e: 65537\n",
      "The details of your private key are:\n",
      "\t d: 35578759234057100041603860099457606068912819551208930263983978786549798223902737146265940099680478596725775426016186100415639174862048027966382085141054384498732365489742624548519455840235687564930042344887999123352812007510524206400800358466508389256930239156923141670811444755720018857339022521914147300733\n"
     ]
    }
   ],
   "execution_count": 39
  }
 ],
 "metadata": {
  "kernelspec": {
   "display_name": "Python 3",
   "language": "python",
   "name": "python3"
  },
  "language_info": {
   "codemirror_mode": {
    "name": "ipython",
    "version": 3
   },
   "file_extension": ".py",
   "mimetype": "text/x-python",
   "name": "python",
   "nbconvert_exporter": "python",
   "pygments_lexer": "ipython3",
   "version": "3.13.5"
  }
 },
 "nbformat": 4,
 "nbformat_minor": 5
}
