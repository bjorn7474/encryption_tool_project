{
 "cells": [
  {
   "cell_type": "code",
   "id": "27368424",
   "metadata": {
    "ExecuteTime": {
     "end_time": "2025-08-13T08:17:26.570311Z",
     "start_time": "2025-08-13T08:17:26.567266Z"
    }
   },
   "source": [
    "def ascii_encode(msg):\n",
    "\n",
    "    lst = []\n",
    "    for i in msg:\n",
    "        lst.append(ord(i))\n",
    "\n",
    "    return lst\n",
    "\n",
    "#print(ascii_encode('hello world'))"
   ],
   "outputs": [],
   "execution_count": 6
  },
  {
   "cell_type": "code",
   "id": "60207d38",
   "metadata": {
    "ExecuteTime": {
     "end_time": "2025-08-13T08:17:26.594344Z",
     "start_time": "2025-08-13T08:17:26.587372Z"
    }
   },
   "source": [
    "def shift_ascii_numbers(numb_list, shift_val):\n",
    "    '''\n",
    "    we will restrict ourselves to the set of single printable characters from the ascii table. These range from 32 to 126 in the ascii table - a total of 95 characters. \n",
    "    \n",
    "    To ensure no overflow after shifting, we first subtract 32 to take us to the range 0 to 94, make the shift modulo 95, then add 32 again to take us back to the suitable range. \n",
    "    '''\n",
    "\n",
    "    shifted_numb_list =  []\n",
    "    for i in numb_list:\n",
    "        temp_val = ( (i -32 + shift_val) ) % 95 + 32\n",
    "        shifted_numb_list.append(temp_val)\n",
    "    return shifted_numb_list\n",
    "\n",
    "#lst = shift_ascii_numbers([104, 101, 108, 108, 111, 32, 119, 111, 114, 108, 100], 77 )\n",
    "#lst\n"
   ],
   "outputs": [],
   "execution_count": 7
  },
  {
   "cell_type": "code",
   "id": "c9f919531c8a83ef",
   "metadata": {
    "ExecuteTime": {
     "end_time": "2025-08-13T08:17:26.612533Z",
     "start_time": "2025-08-13T08:17:26.608671Z"
    }
   },
   "source": [
    "def ascii_decode(msg):\n",
    "    \n",
    "    lst = []\n",
    "    for i in msg:\n",
    "        lst.append( chr(i))\n",
    "        \n",
    "    return lst\n",
    "\n",
    "#output = ascii_decode([86, 83, 90, 90, 93, 109, 101, 93, 96, 90, 82])\n",
    "#print(output)\n",
    "#print(''.join(output))"
   ],
   "outputs": [],
   "execution_count": 8
  },
  {
   "cell_type": "code",
   "id": "1187ed04bbe3b90d",
   "metadata": {
    "ExecuteTime": {
     "end_time": "2025-08-13T08:17:26.637425Z",
     "start_time": "2025-08-13T08:17:26.633283Z"
    }
   },
   "source": [
    "def ascii_caesar_encrypt(message, key):\n",
    "    \n",
    "    #step 1: ascii encode\n",
    "    ascii_message = ascii_encode(message)\n",
    "    \n",
    "    #step 2: step 2: shift ascii numbers\n",
    "    shifted_ascii_message = shift_ascii_numbers(ascii_message, key)\n",
    "    \n",
    "    #step 3: ascii decode \n",
    "    encrypted_message = ascii_decode(shifted_ascii_message)\n",
    "    \n",
    "    #step 4: convert to string and return \n",
    "    return ''.join(encrypted_message)\n",
    "\n",
    "#print(ascii_caesar_encrypt(\"hello world again\", 23))"
   ],
   "outputs": [],
   "execution_count": 9
  },
  {
   "cell_type": "code",
   "id": "1d14710db5712f12",
   "metadata": {
    "ExecuteTime": {
     "end_time": "2025-08-13T08:17:26.666939Z",
     "start_time": "2025-08-13T08:17:26.663179Z"
    }
   },
   "source": [
    "def ascii_caesar_decrypt(encrypted_message, key):\n",
    "    \n",
    "    #step 1: ascii encode\n",
    "    ascii_message = ascii_encode(encrypted_message)\n",
    "    \n",
    "    #step 2: step 2: shift ascii numbers\n",
    "    shifted_ascii_message = shift_ascii_numbers(ascii_message, -1*key)\n",
    "    \n",
    "    #step 3: ascii decode \n",
    "    decrypted_message = ascii_decode(shifted_ascii_message)\n",
    "    \n",
    "    #step 4: convert to string and return \n",
    "    return ''.join(decrypted_message)"
   ],
   "outputs": [],
   "execution_count": 10
  },
  {
   "cell_type": "code",
   "id": "6e6db5bf1f560591",
   "metadata": {
    "ExecuteTime": {
     "end_time": "2025-08-13T08:17:26.692237Z",
     "start_time": "2025-08-13T08:17:26.686156Z"
    }
   },
   "source": [
    "def inputMessage(message_limit=50):\n",
    "\n",
    "    message = input('Enter your message: ')\n",
    "    while len(message) > message_limit:\n",
    "        print('Your message is too long!')\n",
    "        message = input('Enter your message: ')\n",
    "\n",
    "    encryption_type = 0\n",
    "    while (encryption_type not in ['1', '2']):\n",
    "        encryption_type = input('Which encryption method would you like to use?\\n (1. Ceasar cipher 2. Other): ')\n",
    "    encryption_type = int(encryption_type)\n",
    "\n",
    "    encryption_key = 0\n",
    "    while (encryption_key not in [str(i) for i in range(1, 95)]):\n",
    "        encryption_key = input('Enter an encryption key between 1 - 95: ')\n",
    "    encryption_key = int(encryption_key)\n",
    "    \n",
    "    encryption_dir = ''\n",
    "    while encryption_dir not in ['e','d']: \n",
    "        encryption_dir = input(\"Would you like to encrypt (e) or decrypt (d)?\")\n",
    "        \n",
    "    return message, encryption_type, encryption_key, encryption_dir\n",
    "    \n",
    "#inputMessage()    \n"
   ],
   "outputs": [],
   "execution_count": 11
  },
  {
   "cell_type": "code",
   "id": "babadeb2",
   "metadata": {
    "ExecuteTime": {
     "end_time": "2025-08-13T08:22:22.829590Z",
     "start_time": "2025-08-13T08:21:31.793653Z"
    }
   },
   "source": [
    "# main logic \n",
    "\n",
    "while True:\n",
    "    message, encryption_type, encryption_key, encryption_dir = inputMessage()\n",
    "    \n",
    "    if encryption_type == 1:\n",
    "        #the user wants to use the caeser cipher\n",
    "        if encryption_dir == 'e':\n",
    "            #the use wants to encrypt\n",
    "            print(f\"Your encrypted message using the caeser cipher and key {encryption_key} is:\")\n",
    "            print('\\t', ascii_caesar_encrypt(message, encryption_key))\n",
    "        else:\n",
    "            #the user wants to decrypt\n",
    "            print(f\"Your decrypted message using the caeser cipher and key {encryption_key} is:\")\n",
    "            print(ascii_caesar_decrypt(message, encryption_key))\n",
    "        \n",
    "            \n",
    "    \n",
    "    elif encryption_type == 2:\n",
    "        #the user want to use another encryption type\n",
    "        pass\n",
    "    \n",
    "    \n",
    "    another_message = input(\"Would you like to encrypt/decrypt another message? Y/N\")\n",
    "    if another_message == \"N\":\n",
    "        break\n",
    "    "
   ],
   "outputs": [
    {
     "name": "stdout",
     "output_type": "stream",
     "text": [
      "Your encrypted message using the caeser cipher and key 5 is:\n",
      "\t mjqqt%|twqi%flfns%ymnx%nx%f%qtsljw%rjxxflj\n"
     ]
    }
   ],
   "execution_count": 13
  },
  {
   "metadata": {
    "ExecuteTime": {
     "end_time": "2025-08-13T08:18:55.168245Z",
     "start_time": "2025-08-13T08:18:55.160203Z"
    }
   },
   "cell_type": "code",
   "source": "",
   "id": "b8426a6249887376",
   "outputs": [],
   "execution_count": null
  }
 ],
 "metadata": {
  "kernelspec": {
   "display_name": "Python 3",
   "language": "python",
   "name": "python3"
  },
  "language_info": {
   "codemirror_mode": {
    "name": "ipython",
    "version": 3
   },
   "file_extension": ".py",
   "mimetype": "text/x-python",
   "name": "python",
   "nbconvert_exporter": "python",
   "pygments_lexer": "ipython3",
   "version": "3.13.5"
  }
 },
 "nbformat": 4,
 "nbformat_minor": 5
}
