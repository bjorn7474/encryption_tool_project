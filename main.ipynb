{
 "cells": [
  {
   "cell_type": "code",
   "execution_count": null,
   "id": "ee84b5ab",
   "metadata": {},
   "outputs": [],
   "source": [
    "def inputMessage():\n",
    "\n",
    "    ''''\n",
    "    message = input('message: ')\n",
    "    encrypt_type = int(input('encyption type (number): '))\n",
    "    encryption_key = input('encryption key: ')\n",
    "    encryption_dir = input(\"encrypt/decrypt\")\n",
    "    '''\n",
    "    message = 'hello world'\n",
    "    encrypt_type = 1\n",
    "    encrypt_key = 7\n",
    "    encrypt_dir = 'e'\n",
    "\n",
    "    \n"
   ]
  },
  {
   "cell_type": "code",
   "execution_count": null,
   "id": "625b5657",
   "metadata": {},
   "outputs": [],
   "source": [
    "#ef encryptMessage(message, encrypt_type, encrypt_key, encrypt_dir):\n",
    "\n",
    "    \n",
    "\n"
   ]
  },
  {
   "cell_type": "code",
   "execution_count": null,
   "id": "f036224d",
   "metadata": {},
   "outputs": [],
   "source": [
    "\n",
    "    \n",
    "    \n",
    "\n",
    "    \n",
    "\n",
    "\n",
    "    "
   ]
  },
  {
   "cell_type": "code",
   "id": "27368424",
   "metadata": {
    "ExecuteTime": {
     "end_time": "2025-08-12T14:09:54.596725Z",
     "start_time": "2025-08-12T14:09:54.578799Z"
    }
   },
   "source": [
    "def ascii_encode(msg):\n",
    "\n",
    "    lst = []\n",
    "    for i in msg:\n",
    "        lst.append(ord(i))\n",
    "\n",
    "    return lst\n",
    "\n",
    "#print(ascii_encode('hello world'))"
   ],
   "outputs": [
    {
     "name": "stdout",
     "output_type": "stream",
     "text": [
      "[104, 101, 108, 108, 111, 32, 119, 111, 114, 108, 100]\n"
     ]
    }
   ],
   "execution_count": 17
  },
  {
   "cell_type": "code",
   "id": "60207d38",
   "metadata": {
    "ExecuteTime": {
     "end_time": "2025-08-12T14:09:58.835742Z",
     "start_time": "2025-08-12T14:09:58.828123Z"
    }
   },
   "source": [
    "def shift_ascii_numbers(numb_list, shift_val):\n",
    "    '''\n",
    "    we will restrict ourselves to the set of single printable characters from the ascii table. These range from 32 to 126 in the ascii table - a total of 95 characters. \n",
    "    \n",
    "    To ensure no overflow after shifting, we first subtract 32 to take us to the range 0 to 94, make the shift modulo 95, then add 32 again to take us back to the suitable range. \n",
    "    '''\n",
    "\n",
    "    shifted_numb_list =  []\n",
    "    for i in numb_list:\n",
    "        temp_val = ( (i -32 + shift_val) ) % 95 + 32\n",
    "        shifted_numb_list.append(temp_val)\n",
    "    return shifted_numb_list\n",
    "\n",
    "#lst = shift_ascii_numbers([104, 101, 108, 108, 111, 32, 119, 111, 114, 108, 100], 77 )\n",
    "#lst\n"
   ],
   "outputs": [
    {
     "data": {
      "text/plain": [
       "[86, 83, 90, 90, 93, 109, 101, 93, 96, 90, 82]"
      ]
     },
     "execution_count": 18,
     "metadata": {},
     "output_type": "execute_result"
    }
   ],
   "execution_count": 18
  },
  {
   "metadata": {
    "ExecuteTime": {
     "end_time": "2025-08-12T14:10:19.456367Z",
     "start_time": "2025-08-12T14:10:19.449465Z"
    }
   },
   "cell_type": "code",
   "source": [
    "def ascii_decode(msg):\n",
    "    \n",
    "    lst = []\n",
    "    for i in msg:\n",
    "        lst.append( chr(i))\n",
    "        \n",
    "    return lst\n",
    "\n",
    "#output = ascii_decode([86, 83, 90, 90, 93, 109, 101, 93, 96, 90, 82])\n",
    "#print(output)\n",
    "#print(''.join(output))\n",
    "\n",
    "\n",
    "    \n",
    "    "
   ],
   "id": "c9f919531c8a83ef",
   "outputs": [
    {
     "name": "stdout",
     "output_type": "stream",
     "text": [
      "['V', 'S', 'Z', 'Z', ']', 'm', 'e', ']', '`', 'Z', 'R']\n",
      "VSZZ]me]`ZR\n"
     ]
    }
   ],
   "execution_count": 19
  },
  {
   "metadata": {
    "ExecuteTime": {
     "end_time": "2025-08-12T14:35:41.937073Z",
     "start_time": "2025-08-12T14:35:41.896617Z"
    }
   },
   "cell_type": "code",
   "source": [
    "def ascii_ceasar_encrypt(message, key):\n",
    "    \n",
    "    #step 1: ascii encode\n",
    "    ascii_message = ascii_encode(message)\n",
    "    \n",
    "    #step 2: step 2: shift ascii numbers\n",
    "    shifted_ascii_message = shift_ascii_numbers(ascii_message, key)\n",
    "    \n",
    "    #step 3: ascii decode \n",
    "    encrypted_message = ascii_decode(shifted_ascii_message)\n",
    "    \n",
    "    #step 4: convert to string and return \n",
    "    return ''.join(encrypted_message)\n",
    "\n",
    "print(ascii_ceasar_encrypt(\"hello world again\", 23))"
   ],
   "id": "1187ed04bbe3b90d",
   "outputs": [
    {
     "name": "stdout",
     "output_type": "stream",
     "text": [
      " |$$'7/'*${7x~x!&\n"
     ]
    }
   ],
   "execution_count": 20
  },
  {
   "metadata": {
    "ExecuteTime": {
     "end_time": "2025-08-12T14:38:58.504427Z",
     "start_time": "2025-08-12T14:38:58.467693Z"
    }
   },
   "cell_type": "code",
   "source": [
    "def ascii_ceasar_decrypt(encrypted_message, key):\n",
    "    \n",
    "    #step 1: ascii encode\n",
    "    ascii_message = ascii_encode(encrypted_message)\n",
    "    \n",
    "    #step 2: step 2: shift ascii numbers\n",
    "    shifted_ascii_message = shift_ascii_numbers(ascii_message, -1*key)\n",
    "    \n",
    "    #step 3: ascii decode \n",
    "    decrypted_message = ascii_decode(shifted_ascii_message)\n",
    "    \n",
    "    #step 4: convert to string and return \n",
    "    return ''.join(decrypted_message)"
   ],
   "id": "1d14710db5712f12",
   "outputs": [],
   "execution_count": 21
  },
  {
   "metadata": {
    "ExecuteTime": {
     "end_time": "2025-08-12T14:41:08.138397Z",
     "start_time": "2025-08-12T14:41:08.132829Z"
    }
   },
   "cell_type": "code",
   "source": "#ascii_ceasar_decrypt(\" |$$'7/'*${7x~x!&\",23)",
   "id": "808824e04cae998b",
   "outputs": [
    {
     "data": {
      "text/plain": [
       "'gdkkn~vnqkc~`f`hm'"
      ]
     },
     "execution_count": 25,
     "metadata": {},
     "output_type": "execute_result"
    }
   ],
   "execution_count": 25
  },
  {
   "metadata": {
    "ExecuteTime": {
     "end_time": "2025-08-12T14:44:46.738688Z",
     "start_time": "2025-08-12T14:44:28.237251Z"
    }
   },
   "cell_type": "code",
   "source": "",
   "id": "4f6adf971134cd17",
   "outputs": [
    {
     "name": "stdout",
     "output_type": "stream",
     "text": [
      "this is a \" and this is a '\n"
     ]
    }
   ],
   "execution_count": 26
  },
  {
   "metadata": {},
   "cell_type": "code",
   "outputs": [],
   "execution_count": null,
   "source": "",
   "id": "6e6db5bf1f560591"
  }
 ],
 "metadata": {
  "kernelspec": {
   "display_name": "Python 3",
   "language": "python",
   "name": "python3"
  },
  "language_info": {
   "codemirror_mode": {
    "name": "ipython",
    "version": 3
   },
   "file_extension": ".py",
   "mimetype": "text/x-python",
   "name": "python",
   "nbconvert_exporter": "python",
   "pygments_lexer": "ipython3",
   "version": "3.13.5"
  }
 },
 "nbformat": 4,
 "nbformat_minor": 5
}
