{
 "cells": [
  {
   "cell_type": "code",
   "execution_count": null,
   "id": "ee84b5ab",
   "metadata": {},
   "outputs": [],
   "source": [
    "def inputMessage():\n",
    "\n",
    "    ''''\n",
    "    message = input('message: ')\n",
    "    encrypt_type = int(input('encyption type (number): '))\n",
    "    encryption_key = input('encryption key: ')\n",
    "    encryption_dir = input(\"encrypt/decrypt\")\n",
    "    '''\n",
    "    message = 'hello world'\n",
    "    encrypt_type = 1\n",
    "    encrypt_key = 7\n",
    "    encrypt_dir = 'e'\n",
    "\n",
    "    \n"
   ]
  },
  {
   "cell_type": "code",
   "execution_count": null,
   "id": "625b5657",
   "metadata": {},
   "outputs": [],
   "source": [
    "#ef encryptMessage(message, encrypt_type, encrypt_key, encrypt_dir):\n",
    "\n",
    "    \n",
    "\n"
   ]
  },
  {
   "cell_type": "code",
   "execution_count": null,
   "id": "f036224d",
   "metadata": {},
   "outputs": [],
   "source": [
    "def ascii_ceasar_encrypt(message):\n",
    "\n",
    "    \n",
    "\n",
    "\n",
    "    "
   ]
  },
  {
   "cell_type": "code",
   "execution_count": null,
   "id": "27368424",
   "metadata": {},
   "outputs": [
    {
     "name": "stdout",
     "output_type": "stream",
     "text": [
      "[104, 101, 108, 108, 111, 32, 119, 111, 114, 108, 100]\n"
     ]
    }
   ],
   "source": [
    "def ascii_convert(msg):\n",
    "\n",
    "    lst = []\n",
    "    for i in msg:\n",
    "        lst.append(ord(i))\n",
    "\n",
    "    return lst\n",
    "\n",
    "#print(ascii_convert('hello world'))"
   ]
  },
  {
   "cell_type": "code",
   "execution_count": 8,
   "id": "60207d38",
   "metadata": {},
   "outputs": [
    {
     "data": {
      "text/plain": [
       "[111, 108, 115, 115, 118, 39, 126, 118, 121, 115, 6]"
      ]
     },
     "execution_count": 8,
     "metadata": {},
     "output_type": "execute_result"
    }
   ],
   "source": [
    "def shift_ascii_numbers(numb_list, shift_val):\n",
    "\n",
    "    shifted_numb_list =  []\n",
    "    for i in numb_list:\n",
    "        temp_val = (i + shift_val) % 255\n",
    "        shifted_numb_list.append(temp_val)\n",
    "    return shifted_numb_list\n",
    "\n",
    "lst = shift_ascii_numbers([104, 101, 108, 108, 111, 32, 119, 111, 114, 108, 254], 7)\n",
    "lst\n"
   ]
  }
 ],
 "metadata": {
  "kernelspec": {
   "display_name": "Python 3",
   "language": "python",
   "name": "python3"
  },
  "language_info": {
   "codemirror_mode": {
    "name": "ipython",
    "version": 3
   },
   "file_extension": ".py",
   "mimetype": "text/x-python",
   "name": "python",
   "nbconvert_exporter": "python",
   "pygments_lexer": "ipython3",
   "version": "3.13.5"
  }
 },
 "nbformat": 4,
 "nbformat_minor": 5
}
