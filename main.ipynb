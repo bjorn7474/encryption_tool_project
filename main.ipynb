{
 "cells": [
  {
   "cell_type": "code",
   "execution_count": 2,
   "id": "27368424",
   "metadata": {
    "ExecuteTime": {
     "end_time": "2025-08-13T08:17:26.570311Z",
     "start_time": "2025-08-13T08:17:26.567266Z"
    }
   },
   "outputs": [],
   "source": [
    "def ascii_encode(msg):\n",
    "\n",
    "    lst = []\n",
    "    for i in msg:\n",
    "        lst.append(ord(i))\n",
    "\n",
    "    return lst\n",
    "\n",
    "#print(ascii_encode('hello world'))"
   ]
  },
  {
   "cell_type": "code",
   "execution_count": 3,
   "id": "60207d38",
   "metadata": {
    "ExecuteTime": {
     "end_time": "2025-08-13T08:17:26.594344Z",
     "start_time": "2025-08-13T08:17:26.587372Z"
    }
   },
   "outputs": [],
   "source": [
    "def shift_ascii_numbers(numb_list, shift_val):\n",
    "    '''\n",
    "    we will restrict ourselves to the set of single printable characters from the ascii table. These range from 32 to 126 in the ascii table - a total of 95 characters. \n",
    "    \n",
    "    To ensure no overflow after shifting, we first subtract 32 to take us to the range 0 to 94, make the shift modulo 95, then add 32 again to take us back to the suitable range. \n",
    "    '''\n",
    "\n",
    "    shifted_numb_list =  []\n",
    "    for i in numb_list:\n",
    "        temp_val = ( (i -32 + shift_val) ) % 95 + 32\n",
    "        shifted_numb_list.append(temp_val)\n",
    "    return shifted_numb_list\n",
    "\n",
    "#lst = shift_ascii_numbers([104, 101, 108, 108, 111, 32, 119, 111, 114, 108, 100], 77 )\n",
    "#lst\n"
   ]
  },
  {
   "cell_type": "code",
   "execution_count": 4,
   "id": "c9f919531c8a83ef",
   "metadata": {
    "ExecuteTime": {
     "end_time": "2025-08-13T08:17:26.612533Z",
     "start_time": "2025-08-13T08:17:26.608671Z"
    }
   },
   "outputs": [],
   "source": [
    "def ascii_decode(msg):\n",
    "    \n",
    "    lst = []\n",
    "    for i in msg:\n",
    "        lst.append( chr(i))\n",
    "        \n",
    "    return lst\n",
    "\n",
    "#output = ascii_decode([86, 83, 90, 90, 93, 109, 101, 93, 96, 90, 82])\n",
    "#print(output)\n",
    "#print(''.join(output))"
   ]
  },
  {
   "cell_type": "code",
   "execution_count": 5,
   "id": "1187ed04bbe3b90d",
   "metadata": {
    "ExecuteTime": {
     "end_time": "2025-08-13T08:17:26.637425Z",
     "start_time": "2025-08-13T08:17:26.633283Z"
    }
   },
   "outputs": [],
   "source": [
    "def ascii_caesar_encrypt(message, key):\n",
    "    \n",
    "    #step 1: ascii encode\n",
    "    ascii_message = ascii_encode(message)\n",
    "    \n",
    "    #step 2: step 2: shift ascii numbers\n",
    "    shifted_ascii_message = shift_ascii_numbers(ascii_message, key)\n",
    "    \n",
    "    #step 3: ascii decode \n",
    "    encrypted_message = ascii_decode(shifted_ascii_message)\n",
    "    \n",
    "    #step 4: convert to string and return \n",
    "    return ''.join(encrypted_message)\n",
    "\n",
    "#print(ascii_caesar_encrypt(\"hello world again\", 23))"
   ]
  },
  {
   "cell_type": "code",
   "execution_count": 6,
   "id": "1d14710db5712f12",
   "metadata": {
    "ExecuteTime": {
     "end_time": "2025-08-13T08:17:26.666939Z",
     "start_time": "2025-08-13T08:17:26.663179Z"
    }
   },
   "outputs": [],
   "source": [
    "def ascii_caesar_decrypt(encrypted_message, key):\n",
    "    \n",
    "    #step 1: ascii encode\n",
    "    ascii_message = ascii_encode(encrypted_message)\n",
    "    \n",
    "    #step 2: step 2: shift ascii numbers\n",
    "    shifted_ascii_message = shift_ascii_numbers(ascii_message, -1*key)\n",
    "    \n",
    "    #step 3: ascii decode \n",
    "    decrypted_message = ascii_decode(shifted_ascii_message)\n",
    "    \n",
    "    #step 4: convert to string and return \n",
    "    return ''.join(decrypted_message)"
   ]
  },
  {
   "cell_type": "code",
   "execution_count": 7,
   "id": "6e6db5bf1f560591",
   "metadata": {
    "ExecuteTime": {
     "end_time": "2025-08-13T08:17:26.692237Z",
     "start_time": "2025-08-13T08:17:26.686156Z"
    }
   },
   "outputs": [],
   "source": [
    "def inputMessage(message_limit=50):\n",
    "\n",
    "    message = input('Enter your message: ')\n",
    "    while len(message) > message_limit:\n",
    "        print('Your message is too long!')\n",
    "        message = input('Enter your message: ')\n",
    "\n",
    "    encryption_type = 0\n",
    "    while (encryption_type not in ['1', '2']):\n",
    "        encryption_type = input('Which encryption method would you like to use?\\n (1. Ceasar cipher 2. Other): ')\n",
    "    encryption_type = int(encryption_type)\n",
    "\n",
    "    encryption_key = 0\n",
    "    while (encryption_key not in [str(i) for i in range(1, 95)]):\n",
    "        encryption_key = input('Enter an encryption key between 1 - 95: ')\n",
    "    encryption_key = int(encryption_key)\n",
    "    \n",
    "    encryption_dir = ''\n",
    "    while encryption_dir not in ['e','d']: \n",
    "        encryption_dir = input(\"Would you like to encrypt (e) or decrypt (d)?\")\n",
    "        \n",
    "    return message, encryption_type, encryption_key, encryption_dir\n",
    "    \n",
    "#inputMessage()    \n"
   ]
  },
  {
   "cell_type": "code",
   "execution_count": 8,
   "id": "b8426a6249887376",
   "metadata": {
    "ExecuteTime": {
     "end_time": "2025-08-13T08:18:55.168245Z",
     "start_time": "2025-08-13T08:18:55.160203Z"
    }
   },
   "outputs": [],
   "source": [
    "def get_user_encryption_type():\n",
    "\n",
    "    encryption_type = 0\n",
    "    while (encryption_type not in ['1', '2']):\n",
    "        encryption_type = input('Which encryption method would you like to use?\\n (1. Ceasar cipher 2. RSA): ')\n",
    "    encryption_type = int(encryption_type)\n",
    "\n",
    "    return encryption_type\n",
    "\n",
    "def encryption_keys_needed():\n",
    "\n",
    "    keys_needed = input(\"Do you need to generate public and private keys? Y/N\")\n",
    "\n",
    "    return keys_needed\n",
    "\n",
    "def get_user_message(message_limit = 50):\n",
    "    message = input('Enter your message: ')\n",
    "    while len(message) > message_limit:\n",
    "        print('Your message is too long!')\n",
    "        message = input('Enter your message: ')\n",
    "\n",
    "    return message\n",
    "\n",
    "def get_encryption_key():\n",
    "    encryption_key = 0\n",
    "    while (encryption_key not in [str(i) for i in range(1, 95)]):\n",
    "        encryption_key = input('Enter an encryption key between 1 - 95: ')\n",
    "    encryption_key = int(encryption_key)\n",
    "    return encryption_key\n",
    "\n",
    "def get_encryption_dir():\n",
    "    encryption_dir = ''\n",
    "    while encryption_dir not in ['e','d']: \n",
    "        encryption_dir = input(\"Would you like to encrypt (e) or decrypt (d)?\")\n",
    "    return encryption_dir\n",
    "\n"
   ]
  },
  {
   "cell_type": "code",
   "execution_count": null,
   "id": "e0684ce6",
   "metadata": {},
   "outputs": [
    {
     "ename": "KeyboardInterrupt",
     "evalue": "Interrupted by user",
     "output_type": "error",
     "traceback": [
      "\u001b[31m---------------------------------------------------------------------------\u001b[39m",
      "\u001b[31mKeyboardInterrupt\u001b[39m                         Traceback (most recent call last)",
      "\u001b[36mCell\u001b[39m\u001b[36m \u001b[39m\u001b[32mIn[9]\u001b[39m\u001b[32m, line 5\u001b[39m\n\u001b[32m      3\u001b[39m \u001b[38;5;28;01mwhile\u001b[39;00m \u001b[38;5;28;01mTrue\u001b[39;00m:\n\u001b[32m      4\u001b[39m     message =  get_user_message()\n\u001b[32m----> \u001b[39m\u001b[32m5\u001b[39m     encryption_type = \u001b[43mget_user_encryption_type\u001b[49m\u001b[43m(\u001b[49m\u001b[43m)\u001b[49m\n\u001b[32m      6\u001b[39m     encryption_key = get_encryption_key()\n\u001b[32m      7\u001b[39m     encryption_dir = get_encryption_dir()\n",
      "\u001b[36mCell\u001b[39m\u001b[36m \u001b[39m\u001b[32mIn[8]\u001b[39m\u001b[32m, line 5\u001b[39m, in \u001b[36mget_user_encryption_type\u001b[39m\u001b[34m()\u001b[39m\n\u001b[32m      3\u001b[39m encryption_type = \u001b[32m0\u001b[39m\n\u001b[32m      4\u001b[39m \u001b[38;5;28;01mwhile\u001b[39;00m (encryption_type \u001b[38;5;129;01mnot\u001b[39;00m \u001b[38;5;129;01min\u001b[39;00m [\u001b[33m'\u001b[39m\u001b[33m1\u001b[39m\u001b[33m'\u001b[39m, \u001b[33m'\u001b[39m\u001b[33m2\u001b[39m\u001b[33m'\u001b[39m]):\n\u001b[32m----> \u001b[39m\u001b[32m5\u001b[39m     encryption_type = \u001b[38;5;28;43minput\u001b[39;49m\u001b[43m(\u001b[49m\u001b[33;43m'\u001b[39;49m\u001b[33;43mWhich encryption method would you like to use?\u001b[39;49m\u001b[38;5;130;43;01m\\n\u001b[39;49;00m\u001b[33;43m (1. Ceasar cipher 2. RSA): \u001b[39;49m\u001b[33;43m'\u001b[39;49m\u001b[43m)\u001b[49m\n\u001b[32m      6\u001b[39m encryption_type = \u001b[38;5;28mint\u001b[39m(encryption_type)\n\u001b[32m      8\u001b[39m \u001b[38;5;28;01mreturn\u001b[39;00m encryption_type\n",
      "\u001b[36mFile \u001b[39m\u001b[32m~\\AppData\\Roaming\\Python\\Python313\\site-packages\\ipykernel\\kernelbase.py:1260\u001b[39m, in \u001b[36mKernel.raw_input\u001b[39m\u001b[34m(self, prompt)\u001b[39m\n\u001b[32m   1258\u001b[39m     msg = \u001b[33m\"\u001b[39m\u001b[33mraw_input was called, but this frontend does not support input requests.\u001b[39m\u001b[33m\"\u001b[39m\n\u001b[32m   1259\u001b[39m     \u001b[38;5;28;01mraise\u001b[39;00m StdinNotImplementedError(msg)\n\u001b[32m-> \u001b[39m\u001b[32m1260\u001b[39m \u001b[38;5;28;01mreturn\u001b[39;00m \u001b[38;5;28;43mself\u001b[39;49m\u001b[43m.\u001b[49m\u001b[43m_input_request\u001b[49m\u001b[43m(\u001b[49m\n\u001b[32m   1261\u001b[39m \u001b[43m    \u001b[49m\u001b[38;5;28;43mstr\u001b[39;49m\u001b[43m(\u001b[49m\u001b[43mprompt\u001b[49m\u001b[43m)\u001b[49m\u001b[43m,\u001b[49m\n\u001b[32m   1262\u001b[39m \u001b[43m    \u001b[49m\u001b[38;5;28;43mself\u001b[39;49m\u001b[43m.\u001b[49m\u001b[43m_parent_ident\u001b[49m\u001b[43m[\u001b[49m\u001b[33;43m\"\u001b[39;49m\u001b[33;43mshell\u001b[39;49m\u001b[33;43m\"\u001b[39;49m\u001b[43m]\u001b[49m\u001b[43m,\u001b[49m\n\u001b[32m   1263\u001b[39m \u001b[43m    \u001b[49m\u001b[38;5;28;43mself\u001b[39;49m\u001b[43m.\u001b[49m\u001b[43mget_parent\u001b[49m\u001b[43m(\u001b[49m\u001b[33;43m\"\u001b[39;49m\u001b[33;43mshell\u001b[39;49m\u001b[33;43m\"\u001b[39;49m\u001b[43m)\u001b[49m\u001b[43m,\u001b[49m\n\u001b[32m   1264\u001b[39m \u001b[43m    \u001b[49m\u001b[43mpassword\u001b[49m\u001b[43m=\u001b[49m\u001b[38;5;28;43;01mFalse\u001b[39;49;00m\u001b[43m,\u001b[49m\n\u001b[32m   1265\u001b[39m \u001b[43m\u001b[49m\u001b[43m)\u001b[49m\n",
      "\u001b[36mFile \u001b[39m\u001b[32m~\\AppData\\Roaming\\Python\\Python313\\site-packages\\ipykernel\\kernelbase.py:1305\u001b[39m, in \u001b[36mKernel._input_request\u001b[39m\u001b[34m(self, prompt, ident, parent, password)\u001b[39m\n\u001b[32m   1302\u001b[39m \u001b[38;5;28;01mexcept\u001b[39;00m \u001b[38;5;167;01mKeyboardInterrupt\u001b[39;00m:\n\u001b[32m   1303\u001b[39m     \u001b[38;5;66;03m# re-raise KeyboardInterrupt, to truncate traceback\u001b[39;00m\n\u001b[32m   1304\u001b[39m     msg = \u001b[33m\"\u001b[39m\u001b[33mInterrupted by user\u001b[39m\u001b[33m\"\u001b[39m\n\u001b[32m-> \u001b[39m\u001b[32m1305\u001b[39m     \u001b[38;5;28;01mraise\u001b[39;00m \u001b[38;5;167;01mKeyboardInterrupt\u001b[39;00m(msg) \u001b[38;5;28;01mfrom\u001b[39;00m\u001b[38;5;250m \u001b[39m\u001b[38;5;28;01mNone\u001b[39;00m\n\u001b[32m   1306\u001b[39m \u001b[38;5;28;01mexcept\u001b[39;00m \u001b[38;5;167;01mException\u001b[39;00m:\n\u001b[32m   1307\u001b[39m     \u001b[38;5;28mself\u001b[39m.log.warning(\u001b[33m\"\u001b[39m\u001b[33mInvalid Message:\u001b[39m\u001b[33m\"\u001b[39m, exc_info=\u001b[38;5;28;01mTrue\u001b[39;00m)\n",
      "\u001b[31mKeyboardInterrupt\u001b[39m: Interrupted by user"
     ]
    }
   ],
   "source": [
    "# main logic \n",
    "\n",
    "while True:\n",
    "    encryption_type = get_user_encryption_type()\n",
    "    message =  get_user_message()\n",
    "    encryption_key = get_encryption_key()\n",
    "    encryption_dir = get_encryption_dir()\n",
    "    \n",
    "    if encryption_type == 1:\n",
    "        #the user wants to use the caeser cipher\n",
    "        if encryption_dir == 'e':\n",
    "            #the use wants to encrypt\n",
    "            print(f\"Your encrypted message using the caeser cipher and key {encryption_key} is:\")\n",
    "            print('\\t', ascii_caesar_encrypt(message, encryption_key))\n",
    "        else:\n",
    "            #the user wants to decrypt\n",
    "            print(f\"Your decrypted message using the caeser cipher and key {encryption_key} is:\")\n",
    "            print(ascii_caesar_decrypt(message, encryption_key))\n",
    "        \n",
    "            \n",
    "    \n",
    "    elif encryption_type == 2:\n",
    "        #the user want to use another encryption type\n",
    "        pass\n",
    "    \n",
    "    \n",
    "    another_message = input(\"Would you like to encrypt/decrypt another message? Y/N\")\n",
    "    if another_message == \"N\":\n",
    "        break\n",
    "    "
   ]
  }
 ],
 "metadata": {
  "kernelspec": {
   "display_name": "Python 3",
   "language": "python",
   "name": "python3"
  },
  "language_info": {
   "codemirror_mode": {
    "name": "ipython",
    "version": 3
   },
   "file_extension": ".py",
   "mimetype": "text/x-python",
   "name": "python",
   "nbconvert_exporter": "python",
   "pygments_lexer": "ipython3",
   "version": "3.13.5"
  }
 },
 "nbformat": 4,
 "nbformat_minor": 5
}
