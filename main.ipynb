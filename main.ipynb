{
 "cells": [
  {
   "cell_type": "code",
   "execution_count": null,
   "id": "ee84b5ab",
   "metadata": {},
   "outputs": [],
   "source": [
    "\n",
    "    \n"
   ]
  },
  {
   "cell_type": "code",
   "execution_count": null,
   "id": "625b5657",
   "metadata": {},
   "outputs": [],
   "source": [
    "#ef encryptMessage(message, encrypt_type, encrypt_key, encrypt_dir):\n",
    "\n",
    "    \n",
    "\n"
   ]
  },
  {
   "cell_type": "code",
   "execution_count": null,
   "id": "f036224d",
   "metadata": {},
   "outputs": [],
   "source": [
    "\n",
    "    \n",
    "    \n",
    "\n",
    "    \n",
    "\n",
    "\n",
    "    "
   ]
  },
  {
   "cell_type": "code",
   "execution_count": 17,
   "id": "27368424",
   "metadata": {
    "ExecuteTime": {
     "end_time": "2025-08-12T14:09:54.596725Z",
     "start_time": "2025-08-12T14:09:54.578799Z"
    }
   },
   "outputs": [
    {
     "name": "stdout",
     "output_type": "stream",
     "text": [
      "[104, 101, 108, 108, 111, 32, 119, 111, 114, 108, 100]\n"
     ]
    }
   ],
   "source": [
    "def ascii_encode(msg):\n",
    "\n",
    "    lst = []\n",
    "    for i in msg:\n",
    "        lst.append(ord(i))\n",
    "\n",
    "    return lst\n",
    "\n",
    "#print(ascii_encode('hello world'))"
   ]
  },
  {
   "cell_type": "code",
   "execution_count": 18,
   "id": "60207d38",
   "metadata": {
    "ExecuteTime": {
     "end_time": "2025-08-12T14:09:58.835742Z",
     "start_time": "2025-08-12T14:09:58.828123Z"
    }
   },
   "outputs": [
    {
     "data": {
      "text/plain": [
       "[86, 83, 90, 90, 93, 109, 101, 93, 96, 90, 82]"
      ]
     },
     "execution_count": 18,
     "metadata": {},
     "output_type": "execute_result"
    }
   ],
   "source": [
    "def shift_ascii_numbers(numb_list, shift_val):\n",
    "    '''\n",
    "    we will restrict ourselves to the set of single printable characters from the ascii table. These range from 32 to 126 in the ascii table - a total of 95 characters. \n",
    "    \n",
    "    To ensure no overflow after shifting, we first subtract 32 to take us to the range 0 to 94, make the shift modulo 95, then add 32 again to take us back to the suitable range. \n",
    "    '''\n",
    "\n",
    "    shifted_numb_list =  []\n",
    "    for i in numb_list:\n",
    "        temp_val = ( (i -32 + shift_val) ) % 95 + 32\n",
    "        shifted_numb_list.append(temp_val)\n",
    "    return shifted_numb_list\n",
    "\n",
    "#lst = shift_ascii_numbers([104, 101, 108, 108, 111, 32, 119, 111, 114, 108, 100], 77 )\n",
    "#lst\n"
   ]
  },
  {
   "cell_type": "code",
   "execution_count": 19,
   "id": "c9f919531c8a83ef",
   "metadata": {
    "ExecuteTime": {
     "end_time": "2025-08-12T14:10:19.456367Z",
     "start_time": "2025-08-12T14:10:19.449465Z"
    }
   },
   "outputs": [
    {
     "name": "stdout",
     "output_type": "stream",
     "text": [
      "['V', 'S', 'Z', 'Z', ']', 'm', 'e', ']', '`', 'Z', 'R']\n",
      "VSZZ]me]`ZR\n"
     ]
    }
   ],
   "source": [
    "def ascii_decode(msg):\n",
    "    \n",
    "    lst = []\n",
    "    for i in msg:\n",
    "        lst.append( chr(i))\n",
    "        \n",
    "    return lst\n",
    "\n",
    "#output = ascii_decode([86, 83, 90, 90, 93, 109, 101, 93, 96, 90, 82])\n",
    "#print(output)\n",
    "#print(''.join(output))\n",
    "\n",
    "\n",
    "    \n",
    "    "
   ]
  },
  {
   "cell_type": "code",
   "execution_count": 20,
   "id": "1187ed04bbe3b90d",
   "metadata": {
    "ExecuteTime": {
     "end_time": "2025-08-12T14:35:41.937073Z",
     "start_time": "2025-08-12T14:35:41.896617Z"
    }
   },
   "outputs": [
    {
     "name": "stdout",
     "output_type": "stream",
     "text": [
      " |$$'7/'*${7x~x!&\n"
     ]
    }
   ],
   "source": [
    "def ascii_ceasar_encrypt(message, key):\n",
    "    \n",
    "    #step 1: ascii encode\n",
    "    ascii_message = ascii_encode(message)\n",
    "    \n",
    "    #step 2: step 2: shift ascii numbers\n",
    "    shifted_ascii_message = shift_ascii_numbers(ascii_message, key)\n",
    "    \n",
    "    #step 3: ascii decode \n",
    "    encrypted_message = ascii_decode(shifted_ascii_message)\n",
    "    \n",
    "    #step 4: convert to string and return \n",
    "    return ''.join(encrypted_message)\n",
    "\n",
    "print(ascii_ceasar_encrypt(\"hello world again\", 23))"
   ]
  },
  {
   "cell_type": "code",
   "execution_count": 21,
   "id": "1d14710db5712f12",
   "metadata": {
    "ExecuteTime": {
     "end_time": "2025-08-12T14:38:58.504427Z",
     "start_time": "2025-08-12T14:38:58.467693Z"
    }
   },
   "outputs": [],
   "source": [
    "def ascii_ceasar_decrypt(encrypted_message, key):\n",
    "    \n",
    "    #step 1: ascii encode\n",
    "    ascii_message = ascii_encode(encrypted_message)\n",
    "    \n",
    "    #step 2: step 2: shift ascii numbers\n",
    "    shifted_ascii_message = shift_ascii_numbers(ascii_message, -1*key)\n",
    "    \n",
    "    #step 3: ascii decode \n",
    "    decrypted_message = ascii_decode(shifted_ascii_message)\n",
    "    \n",
    "    #step 4: convert to string and return \n",
    "    return ''.join(decrypted_message)"
   ]
  },
  {
   "cell_type": "code",
   "execution_count": 25,
   "id": "808824e04cae998b",
   "metadata": {
    "ExecuteTime": {
     "end_time": "2025-08-12T14:41:08.138397Z",
     "start_time": "2025-08-12T14:41:08.132829Z"
    }
   },
   "outputs": [
    {
     "data": {
      "text/plain": [
       "'gdkkn~vnqkc~`f`hm'"
      ]
     },
     "execution_count": 25,
     "metadata": {},
     "output_type": "execute_result"
    }
   ],
   "source": [
    "#ascii_ceasar_decrypt(\" |$$'7/'*${7x~x!&\",23)"
   ]
  },
  {
   "cell_type": "code",
   "execution_count": 26,
   "id": "4f6adf971134cd17",
   "metadata": {
    "ExecuteTime": {
     "end_time": "2025-08-12T14:44:46.738688Z",
     "start_time": "2025-08-12T14:44:28.237251Z"
    }
   },
   "outputs": [
    {
     "name": "stdout",
     "output_type": "stream",
     "text": [
      "this is a \" and this is a '\n"
     ]
    }
   ],
   "source": []
  },
  {
   "cell_type": "code",
   "execution_count": 10,
   "id": "6e6db5bf1f560591",
   "metadata": {},
   "outputs": [],
   "source": [
    "def inputMessage():\n",
    "\n",
    "    '''\n",
    "    message = input('Enter your message: ')\n",
    "    while len(message) > 5:\n",
    "        print('Your message is too long!')\n",
    "        message = input('Enter your message: ')\n",
    "\n",
    "    encrypt_type = 0\n",
    "    while (encrypt_type not in ['1', '2']):\n",
    "        encrypt_type = input('Which encryption message would you like to use?\\n (1. Ceasar cipher 2. Other): ')\n",
    "    encrypt_type = int(encrypt_type)\n",
    "    '''\n",
    "    encryption_key = 0\n",
    "    while (encryption_key not in [str(i) for i in range(1, 95)]):\n",
    "        encryption_key = input('Enter an encryption key between 1 - 95: ')\n",
    "    \n",
    "    \n",
    "    \n",
    "    #encryption_dir = input(\"Would you like to encrypt or decrypt?\")\n",
    "    \n",
    "inputMessage()    \n"
   ]
  },
  {
   "cell_type": "code",
   "execution_count": null,
   "id": "babadeb2",
   "metadata": {},
   "outputs": [],
   "source": []
  }
 ],
 "metadata": {
  "kernelspec": {
   "display_name": "Python 3",
   "language": "python",
   "name": "python3"
  },
  "language_info": {
   "codemirror_mode": {
    "name": "ipython",
    "version": 3
   },
   "file_extension": ".py",
   "mimetype": "text/x-python",
   "name": "python",
   "nbconvert_exporter": "python",
   "pygments_lexer": "ipython3",
   "version": "3.13.5"
  }
 },
 "nbformat": 4,
 "nbformat_minor": 5
}
